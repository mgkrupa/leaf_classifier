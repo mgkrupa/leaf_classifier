{
 "cells": [
  {
   "cell_type": "code",
   "execution_count": 1,
   "metadata": {
    "collapsed": false
   },
   "outputs": [
    {
     "name": "stderr",
     "output_type": "stream",
     "text": [
      "/home/diagoras/.local/lib/python3.5/site-packages/matplotlib/font_manager.py:273: UserWarning: Matplotlib is building the font cache using fc-list. This may take a moment.\n",
      "  warnings.warn('Matplotlib is building the font cache using fc-list. This may take a moment.')\n",
      "/home/diagoras/.local/lib/python3.5/site-packages/matplotlib/font_manager.py:273: UserWarning: Matplotlib is building the font cache using fc-list. This may take a moment.\n",
      "  warnings.warn('Matplotlib is building the font cache using fc-list. This may take a moment.')\n"
     ]
    }
   ],
   "source": [
    "import csv as csv\n",
    "import numpy as np\n",
    "import pandas as pd\n",
    "import matplotlib.pyplot as plt"
   ]
  },
  {
   "cell_type": "code",
   "execution_count": 2,
   "metadata": {
    "collapsed": false
   },
   "outputs": [],
   "source": [
    "#Load training data into dataframe\n",
    "df_train = pd.read_csv('Kaggle_Data/train.csv',header =0)"
   ]
  },
  {
   "cell_type": "code",
   "execution_count": 1,
   "metadata": {
    "collapsed": false
   },
   "outputs": [
    {
     "ename": "NameError",
     "evalue": "name 'df_train' is not defined",
     "output_type": "error",
     "traceback": [
      "\u001b[0;31m---------------------------------------------------------------------------\u001b[0m",
      "\u001b[0;31mNameError\u001b[0m                                 Traceback (most recent call last)",
      "\u001b[0;32m<ipython-input-1-7a40b0e416bb>\u001b[0m in \u001b[0;36m<module>\u001b[0;34m()\u001b[0m\n\u001b[0;32m----> 1\u001b[0;31m \u001b[0mdf_train\u001b[0m\u001b[1;33m\u001b[0m\u001b[0m\n\u001b[0m",
      "\u001b[0;31mNameError\u001b[0m: name 'df_train' is not defined"
     ]
    }
   ],
   "source": [
    "df_train"
   ]
  },
  {
   "cell_type": "code",
   "execution_count": 3,
   "metadata": {
    "collapsed": false
   },
   "outputs": [],
   "source": [
    "#Remove features to obtain ids only\n",
    "id_species_train = df_train[['id','species']]"
   ]
  },
  {
   "cell_type": "code",
   "execution_count": 4,
   "metadata": {
    "collapsed": false
   },
   "outputs": [],
   "source": [
    "id_species_train_alph = id_species_train.sort_values(['species'])"
   ]
  },
  {
   "cell_type": "code",
   "execution_count": 5,
   "metadata": {
    "collapsed": false
   },
   "outputs": [
    {
     "data": {
      "text/html": [
       "<div>\n",
       "<table border=\"1\" class=\"dataframe\">\n",
       "  <thead>\n",
       "    <tr style=\"text-align: right;\">\n",
       "      <th></th>\n",
       "      <th>id</th>\n",
       "      <th>species</th>\n",
       "    </tr>\n",
       "  </thead>\n",
       "  <tbody>\n",
       "    <tr>\n",
       "      <th>0</th>\n",
       "      <td>1</td>\n",
       "      <td>Acer_Opalus</td>\n",
       "    </tr>\n",
       "    <tr>\n",
       "      <th>1</th>\n",
       "      <td>2</td>\n",
       "      <td>Pterocarya_Stenoptera</td>\n",
       "    </tr>\n",
       "    <tr>\n",
       "      <th>2</th>\n",
       "      <td>3</td>\n",
       "      <td>Quercus_Hartwissiana</td>\n",
       "    </tr>\n",
       "    <tr>\n",
       "      <th>3</th>\n",
       "      <td>5</td>\n",
       "      <td>Tilia_Tomentosa</td>\n",
       "    </tr>\n",
       "    <tr>\n",
       "      <th>4</th>\n",
       "      <td>6</td>\n",
       "      <td>Quercus_Variabilis</td>\n",
       "    </tr>\n",
       "    <tr>\n",
       "      <th>5</th>\n",
       "      <td>8</td>\n",
       "      <td>Magnolia_Salicifolia</td>\n",
       "    </tr>\n",
       "    <tr>\n",
       "      <th>6</th>\n",
       "      <td>10</td>\n",
       "      <td>Quercus_Canariensis</td>\n",
       "    </tr>\n",
       "    <tr>\n",
       "      <th>7</th>\n",
       "      <td>11</td>\n",
       "      <td>Quercus_Rubra</td>\n",
       "    </tr>\n",
       "    <tr>\n",
       "      <th>8</th>\n",
       "      <td>14</td>\n",
       "      <td>Quercus_Brantii</td>\n",
       "    </tr>\n",
       "    <tr>\n",
       "      <th>9</th>\n",
       "      <td>15</td>\n",
       "      <td>Salix_Fragilis</td>\n",
       "    </tr>\n",
       "    <tr>\n",
       "      <th>10</th>\n",
       "      <td>17</td>\n",
       "      <td>Zelkova_Serrata</td>\n",
       "    </tr>\n",
       "    <tr>\n",
       "      <th>11</th>\n",
       "      <td>18</td>\n",
       "      <td>Betula_Austrosinensis</td>\n",
       "    </tr>\n",
       "    <tr>\n",
       "      <th>12</th>\n",
       "      <td>20</td>\n",
       "      <td>Quercus_Pontica</td>\n",
       "    </tr>\n",
       "    <tr>\n",
       "      <th>13</th>\n",
       "      <td>21</td>\n",
       "      <td>Quercus_Afares</td>\n",
       "    </tr>\n",
       "    <tr>\n",
       "      <th>14</th>\n",
       "      <td>22</td>\n",
       "      <td>Quercus_Coccifera</td>\n",
       "    </tr>\n",
       "    <tr>\n",
       "      <th>15</th>\n",
       "      <td>25</td>\n",
       "      <td>Fagus_Sylvatica</td>\n",
       "    </tr>\n",
       "    <tr>\n",
       "      <th>16</th>\n",
       "      <td>26</td>\n",
       "      <td>Phildelphus</td>\n",
       "    </tr>\n",
       "    <tr>\n",
       "      <th>17</th>\n",
       "      <td>27</td>\n",
       "      <td>Acer_Palmatum</td>\n",
       "    </tr>\n",
       "    <tr>\n",
       "      <th>18</th>\n",
       "      <td>29</td>\n",
       "      <td>Quercus_Pubescens</td>\n",
       "    </tr>\n",
       "    <tr>\n",
       "      <th>19</th>\n",
       "      <td>30</td>\n",
       "      <td>Populus_Adenopoda</td>\n",
       "    </tr>\n",
       "    <tr>\n",
       "      <th>20</th>\n",
       "      <td>31</td>\n",
       "      <td>Quercus_Trojana</td>\n",
       "    </tr>\n",
       "    <tr>\n",
       "      <th>21</th>\n",
       "      <td>32</td>\n",
       "      <td>Quercus_Variabilis</td>\n",
       "    </tr>\n",
       "    <tr>\n",
       "      <th>22</th>\n",
       "      <td>34</td>\n",
       "      <td>Alnus_Sieboldiana</td>\n",
       "    </tr>\n",
       "    <tr>\n",
       "      <th>23</th>\n",
       "      <td>35</td>\n",
       "      <td>Quercus_Ilex</td>\n",
       "    </tr>\n",
       "    <tr>\n",
       "      <th>24</th>\n",
       "      <td>37</td>\n",
       "      <td>Arundinaria_Simonii</td>\n",
       "    </tr>\n",
       "    <tr>\n",
       "      <th>25</th>\n",
       "      <td>38</td>\n",
       "      <td>Acer_Platanoids</td>\n",
       "    </tr>\n",
       "    <tr>\n",
       "      <th>26</th>\n",
       "      <td>40</td>\n",
       "      <td>Quercus_Phillyraeoides</td>\n",
       "    </tr>\n",
       "    <tr>\n",
       "      <th>27</th>\n",
       "      <td>42</td>\n",
       "      <td>Cornus_Chinensis</td>\n",
       "    </tr>\n",
       "    <tr>\n",
       "      <th>28</th>\n",
       "      <td>43</td>\n",
       "      <td>Quercus_Phillyraeoides</td>\n",
       "    </tr>\n",
       "    <tr>\n",
       "      <th>29</th>\n",
       "      <td>45</td>\n",
       "      <td>Fagus_Sylvatica</td>\n",
       "    </tr>\n",
       "    <tr>\n",
       "      <th>...</th>\n",
       "      <td>...</td>\n",
       "      <td>...</td>\n",
       "    </tr>\n",
       "    <tr>\n",
       "      <th>960</th>\n",
       "      <td>1541</td>\n",
       "      <td>Quercus_Vulcanica</td>\n",
       "    </tr>\n",
       "    <tr>\n",
       "      <th>961</th>\n",
       "      <td>1543</td>\n",
       "      <td>Salix_Fragilis</td>\n",
       "    </tr>\n",
       "    <tr>\n",
       "      <th>962</th>\n",
       "      <td>1544</td>\n",
       "      <td>Tilia_Tomentosa</td>\n",
       "    </tr>\n",
       "    <tr>\n",
       "      <th>963</th>\n",
       "      <td>1545</td>\n",
       "      <td>Populus_Grandidentata</td>\n",
       "    </tr>\n",
       "    <tr>\n",
       "      <th>964</th>\n",
       "      <td>1547</td>\n",
       "      <td>Prunus_X_Shmittii</td>\n",
       "    </tr>\n",
       "    <tr>\n",
       "      <th>965</th>\n",
       "      <td>1548</td>\n",
       "      <td>Quercus_x_Hispanica</td>\n",
       "    </tr>\n",
       "    <tr>\n",
       "      <th>966</th>\n",
       "      <td>1549</td>\n",
       "      <td>Quercus_Suber</td>\n",
       "    </tr>\n",
       "    <tr>\n",
       "      <th>967</th>\n",
       "      <td>1550</td>\n",
       "      <td>Alnus_Viridis</td>\n",
       "    </tr>\n",
       "    <tr>\n",
       "      <th>968</th>\n",
       "      <td>1551</td>\n",
       "      <td>Acer_Palmatum</td>\n",
       "    </tr>\n",
       "    <tr>\n",
       "      <th>969</th>\n",
       "      <td>1552</td>\n",
       "      <td>Quercus_Rhysophylla</td>\n",
       "    </tr>\n",
       "    <tr>\n",
       "      <th>970</th>\n",
       "      <td>1554</td>\n",
       "      <td>Quercus_Cerris</td>\n",
       "    </tr>\n",
       "    <tr>\n",
       "      <th>971</th>\n",
       "      <td>1555</td>\n",
       "      <td>Quercus_Texana</td>\n",
       "    </tr>\n",
       "    <tr>\n",
       "      <th>972</th>\n",
       "      <td>1556</td>\n",
       "      <td>Acer_Mono</td>\n",
       "    </tr>\n",
       "    <tr>\n",
       "      <th>973</th>\n",
       "      <td>1557</td>\n",
       "      <td>Quercus_Vulcanica</td>\n",
       "    </tr>\n",
       "    <tr>\n",
       "      <th>974</th>\n",
       "      <td>1559</td>\n",
       "      <td>Quercus_Nigra</td>\n",
       "    </tr>\n",
       "    <tr>\n",
       "      <th>975</th>\n",
       "      <td>1561</td>\n",
       "      <td>Rhododendron_x_Russellianum</td>\n",
       "    </tr>\n",
       "    <tr>\n",
       "      <th>976</th>\n",
       "      <td>1562</td>\n",
       "      <td>Acer_Capillipes</td>\n",
       "    </tr>\n",
       "    <tr>\n",
       "      <th>977</th>\n",
       "      <td>1563</td>\n",
       "      <td>Quercus_Pubescens</td>\n",
       "    </tr>\n",
       "    <tr>\n",
       "      <th>978</th>\n",
       "      <td>1566</td>\n",
       "      <td>Alnus_Viridis</td>\n",
       "    </tr>\n",
       "    <tr>\n",
       "      <th>979</th>\n",
       "      <td>1568</td>\n",
       "      <td>Quercus_x_Hispanica</td>\n",
       "    </tr>\n",
       "    <tr>\n",
       "      <th>980</th>\n",
       "      <td>1569</td>\n",
       "      <td>Quercus_Suber</td>\n",
       "    </tr>\n",
       "    <tr>\n",
       "      <th>981</th>\n",
       "      <td>1570</td>\n",
       "      <td>Viburnum_x_Rhytidophylloides</td>\n",
       "    </tr>\n",
       "    <tr>\n",
       "      <th>982</th>\n",
       "      <td>1571</td>\n",
       "      <td>Quercus_Nigra</td>\n",
       "    </tr>\n",
       "    <tr>\n",
       "      <th>983</th>\n",
       "      <td>1572</td>\n",
       "      <td>Quercus_Phellos</td>\n",
       "    </tr>\n",
       "    <tr>\n",
       "      <th>984</th>\n",
       "      <td>1574</td>\n",
       "      <td>Ilex_Cornuta</td>\n",
       "    </tr>\n",
       "    <tr>\n",
       "      <th>985</th>\n",
       "      <td>1575</td>\n",
       "      <td>Magnolia_Salicifolia</td>\n",
       "    </tr>\n",
       "    <tr>\n",
       "      <th>986</th>\n",
       "      <td>1578</td>\n",
       "      <td>Acer_Pictum</td>\n",
       "    </tr>\n",
       "    <tr>\n",
       "      <th>987</th>\n",
       "      <td>1581</td>\n",
       "      <td>Alnus_Maximowiczii</td>\n",
       "    </tr>\n",
       "    <tr>\n",
       "      <th>988</th>\n",
       "      <td>1582</td>\n",
       "      <td>Quercus_Rubra</td>\n",
       "    </tr>\n",
       "    <tr>\n",
       "      <th>989</th>\n",
       "      <td>1584</td>\n",
       "      <td>Quercus_Afares</td>\n",
       "    </tr>\n",
       "  </tbody>\n",
       "</table>\n",
       "<p>990 rows × 2 columns</p>\n",
       "</div>"
      ],
      "text/plain": [
       "       id                       species\n",
       "0       1                   Acer_Opalus\n",
       "1       2         Pterocarya_Stenoptera\n",
       "2       3          Quercus_Hartwissiana\n",
       "3       5               Tilia_Tomentosa\n",
       "4       6            Quercus_Variabilis\n",
       "5       8          Magnolia_Salicifolia\n",
       "6      10           Quercus_Canariensis\n",
       "7      11                 Quercus_Rubra\n",
       "8      14               Quercus_Brantii\n",
       "9      15                Salix_Fragilis\n",
       "10     17               Zelkova_Serrata\n",
       "11     18         Betula_Austrosinensis\n",
       "12     20               Quercus_Pontica\n",
       "13     21                Quercus_Afares\n",
       "14     22             Quercus_Coccifera\n",
       "15     25               Fagus_Sylvatica\n",
       "16     26                   Phildelphus\n",
       "17     27                 Acer_Palmatum\n",
       "18     29             Quercus_Pubescens\n",
       "19     30             Populus_Adenopoda\n",
       "20     31               Quercus_Trojana\n",
       "21     32            Quercus_Variabilis\n",
       "22     34             Alnus_Sieboldiana\n",
       "23     35                  Quercus_Ilex\n",
       "24     37           Arundinaria_Simonii\n",
       "25     38               Acer_Platanoids\n",
       "26     40        Quercus_Phillyraeoides\n",
       "27     42              Cornus_Chinensis\n",
       "28     43        Quercus_Phillyraeoides\n",
       "29     45               Fagus_Sylvatica\n",
       "..    ...                           ...\n",
       "960  1541             Quercus_Vulcanica\n",
       "961  1543                Salix_Fragilis\n",
       "962  1544               Tilia_Tomentosa\n",
       "963  1545         Populus_Grandidentata\n",
       "964  1547             Prunus_X_Shmittii\n",
       "965  1548           Quercus_x_Hispanica\n",
       "966  1549                 Quercus_Suber\n",
       "967  1550                 Alnus_Viridis\n",
       "968  1551                 Acer_Palmatum\n",
       "969  1552           Quercus_Rhysophylla\n",
       "970  1554                Quercus_Cerris\n",
       "971  1555                Quercus_Texana\n",
       "972  1556                     Acer_Mono\n",
       "973  1557             Quercus_Vulcanica\n",
       "974  1559                 Quercus_Nigra\n",
       "975  1561   Rhododendron_x_Russellianum\n",
       "976  1562               Acer_Capillipes\n",
       "977  1563             Quercus_Pubescens\n",
       "978  1566                 Alnus_Viridis\n",
       "979  1568           Quercus_x_Hispanica\n",
       "980  1569                 Quercus_Suber\n",
       "981  1570  Viburnum_x_Rhytidophylloides\n",
       "982  1571                 Quercus_Nigra\n",
       "983  1572               Quercus_Phellos\n",
       "984  1574                  Ilex_Cornuta\n",
       "985  1575          Magnolia_Salicifolia\n",
       "986  1578                   Acer_Pictum\n",
       "987  1581            Alnus_Maximowiczii\n",
       "988  1582                 Quercus_Rubra\n",
       "989  1584                Quercus_Afares\n",
       "\n",
       "[990 rows x 2 columns]"
      ]
     },
     "execution_count": 5,
     "metadata": {},
     "output_type": "execute_result"
    }
   ],
   "source": [
    "id_species_train"
   ]
  },
  {
   "cell_type": "code",
   "execution_count": 6,
   "metadata": {
    "collapsed": false
   },
   "outputs": [],
   "source": [
    "import os\n",
    "import skimage as ski\n",
    "from skimage import io\n",
    "from skimage import data"
   ]
  },
  {
   "cell_type": "code",
   "execution_count": 11,
   "metadata": {
    "collapsed": false
   },
   "outputs": [],
   "source": [
    "#Load a a single image using scikit-image\n",
    "singleim = io.imread('Kaggle_Data/images/1.jpg')"
   ]
  },
  {
   "cell_type": "code",
   "execution_count": 12,
   "metadata": {
    "collapsed": false
   },
   "outputs": [],
   "source": [
    "master_im_train = []\n",
    "#Load all images using scikit-image\n",
    "for idnum in id_species_train['id']:\n",
    "    master_im_train.append(io.imread('Kaggle_Data/images/%d.jpg' % (idnum)))\n",
    "master_im_train = np.array(master_im_train)"
   ]
  },
  {
   "cell_type": "code",
   "execution_count": 13,
   "metadata": {
    "collapsed": false
   },
   "outputs": [
    {
     "data": {
      "text/plain": [
       "0"
      ]
     },
     "execution_count": 13,
     "metadata": {},
     "output_type": "execute_result"
    }
   ],
   "source": [
    "#Access pixel value (134,240) in the third image in training set\n",
    "master_im_train[2][134,240]"
   ]
  },
  {
   "cell_type": "code",
   "execution_count": 14,
   "metadata": {
    "collapsed": false
   },
   "outputs": [
    {
     "data": {
      "image/png": "[encoded data removed]",
      "text/plain": [
       "<matplotlib.figure.Figure at 0x7f59ee0557f0>"
      ]
     },
     "metadata": {},
     "output_type": "display_data"
    }
   ],
   "source": [
    "#Plot the third image in the training set\n",
    "plt.imshow(master_im_train[2])\n",
    "plt.show()"
   ]
  },
  {
   "cell_type": "code",
   "execution_count": null,
   "metadata": {
    "collapsed": false
   },
   "outputs": [],
   "source": []
  },
  {
   "cell_type": "code",
   "execution_count": null,
   "metadata": {
    "collapsed": true
   },
   "outputs": [],
   "source": []
  }
 ],
 "metadata": {
  "kernelspec": {
   "display_name": "Python 3",
   "language": "python",
   "name": "python3"
  },
  "language_info": {
   "codemirror_mode": {
    "name": "ipython",
    "version": 3
   },
   "file_extension": ".py",
   "mimetype": "text/x-python",
   "name": "python",
   "nbconvert_exporter": "python",
   "pygments_lexer": "ipython3",
   "version": "3.5.2+"
  }
 },
 "nbformat": 4,
 "nbformat_minor": 1
}
